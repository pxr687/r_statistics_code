{
 "cells": [
  {
   "cell_type": "code",
   "execution_count": 17,
   "metadata": {},
   "outputs": [
    {
     "name": "stdout",
     "output_type": "stream",
     "text": [
      "[1] \"Checking parametric assumptions:\"\n",
      "\n",
      "\tShapiro-Wilk normality test\n",
      "\n",
      "data:  samp\n",
      "W = 0.99738, p-value = 0.1076\n",
      "\n",
      "\n",
      "\tShapiro-Wilk normality test\n",
      "\n",
      "data:  samp2\n",
      "W = 0.99887, p-value = 0.7983\n",
      "\n",
      "\n",
      "\tShapiro-Wilk normality test\n",
      "\n",
      "data:  samp3\n",
      "W = 0.99831, p-value = 0.4367\n",
      "\n",
      "\n",
      "\tBartlett test of homogeneity of variances\n",
      "\n",
      "data:  list(samp, samp2, samp3)\n",
      "Bartlett's K-squared = 0.33292, df = 2, p-value = 0.8467\n",
      "\n",
      "[1] \"The sample data met the parametric assumptions.\"\n"
     ]
    },
    {
     "data": {
      "text/plain": [
       "              Df Sum Sq Mean Sq F value Pr(>F)    \n",
       "treatments     2  40699   20350   19909 <2e-16 ***\n",
       "Residuals   2997   3063       1                   \n",
       "---\n",
       "Signif. codes:  0 '***' 0.001 '**' 0.01 '*' 0.05 '.' 0.1 ' ' 1"
      ]
     },
     "metadata": {},
     "output_type": "display_data"
    },
    {
     "data": {
      "image/png": "[encoded data removed]",
      "text/plain": [
       "Plot with title \"Distributions of Three Samples\""
      ]
     },
     "metadata": {
      "image/png": {
       "height": 420,
       "width": 420
      }
     },
     "output_type": "display_data"
    }
   ],
   "source": [
    "library(lawstat)\n",
    "\n",
    "# generating three normally distributed populations\n",
    "\n",
    "pop1 = rnorm(mean = 100, 100000)\n",
    "pop2 = rnorm(mean = 105, 100000)\n",
    "pop3 = rnorm(mean = 109, 100000)\n",
    "\n",
    "# generating a 'coinflip' to decide whether HO will be true or false\n",
    "coin = c(0,1)\n",
    "coinflip = sample(coin, size = 1)\n",
    "\n",
    "# generating a sample from the H0 population if the coinflip == 1\n",
    "\n",
    "if (coinflip == 1){\n",
    "    samp = sample(pop1, size = 1000)\n",
    "    samp2 = sample(pop1, size = 1000)\n",
    "    samp3 = sample(pop1, size = 1000)\n",
    "    hist(samp, main = 'Distributions of Three Samples',\n",
    "        xlab = 'Score on Variable', xlim = c(95,115),ylim = c(0,300), col = 'blue')\n",
    "    hist(samp2, add = TRUE, col = 'red')\n",
    "    hist(samp3, add = TRUE, col = 'green')}\n",
    "   \n",
    "\n",
    "# generating a sample from a different population if the coinflip == 0\n",
    "\n",
    "if (coinflip == 0){\n",
    "    samp = sample(pop1, size = 1000)\n",
    "    samp2 = sample(pop2, size = 1000)\n",
    "    samp3 = sample(pop3, size = 1000)\n",
    "    hist(samp, main = 'Distributions of Three Samples',\n",
    "        xlab = 'Score on Variable', xlim = c(95,115), ylim = c(0,300), col = 'blue')\n",
    "    hist(samp2, add = TRUE, col = 'red')\n",
    "    hist(samp3, add = TRUE, col = 'green')}\n",
    "\n",
    "\n",
    "# checking the assumptions for the ANOVA\n",
    "\n",
    "print('Checking parametric assumptions:')\n",
    "norm_test_1  = shapiro.test(samp)\n",
    "\n",
    "print(norm_test_1)\n",
    "\n",
    "norm_test_2  = shapiro.test(samp2)\n",
    "\n",
    "print(norm_test_2)\n",
    "\n",
    "norm_test_3  = shapiro.test(samp3)\n",
    "\n",
    "print(norm_test_3)\n",
    "\n",
    "barlett_test = bartlett.test(x = list(samp, samp2, samp3))\n",
    "\n",
    "print(barlett_test)\n",
    "\n",
    "# performing the ANOVA if the parametric assumptions are met, else generating a warning\n",
    "\n",
    "if(norm_test_1$p.value >0.05 & norm_test_2$p.value >0.05  & norm_test_2$p.value >0.05 & barlett_test$p.value >0.05 )\n",
    "    {print('The sample data met the parametric assumptions.')\n",
    "    df = data.frame(samp,samp2,samp3)\n",
    "\n",
    "    data = c(t(as.matrix(df)))\n",
    "\n",
    "    no_treatments = ncol(df)\n",
    "\n",
    "    no_obs = nrow(df)\n",
    "\n",
    "    levels = c('treatment_1','treatment_2','treatment_3')\n",
    "\n",
    "    treatments = gl(no_treatments, 1, no_obs*no_treatments, factor(levels)) \n",
    "\n",
    "    anova = aov(data ~ treatments)\n",
    "\n",
    "    summary(anova)\n",
    "    }else{print('Parametric assumptions were not met, consider a nonparametric test!')}\n"
   ]
  },
  {
   "cell_type": "code",
   "execution_count": null,
   "metadata": {},
   "outputs": [],
   "source": []
  }
 ],
 "metadata": {
  "kernelspec": {
   "display_name": "R",
   "language": "R",
   "name": "ir"
  },
  "language_info": {
   "codemirror_mode": "r",
   "file_extension": ".r",
   "mimetype": "text/x-r-source",
   "name": "R",
   "pygments_lexer": "r",
   "version": "4.0.3"
  }
 },
 "nbformat": 4,
 "nbformat_minor": 4
}
