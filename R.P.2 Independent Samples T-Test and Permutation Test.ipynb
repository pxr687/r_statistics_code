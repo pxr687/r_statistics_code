{
 "cells": [
  {
   "cell_type": "code",
   "execution_count": 4,
   "metadata": {},
   "outputs": [
    {
     "name": "stdout",
     "output_type": "stream",
     "text": [
      "[1] \"Sample 1:\"\n",
      "   Min. 1st Qu.  Median    Mean 3rd Qu.    Max. \n",
      "  97.08   99.38  100.01  100.01  100.64  102.94 \n",
      "[1] \"Sample 2:\"\n",
      "   Min. 1st Qu.  Median    Mean 3rd Qu.    Max. \n",
      "  98.72  102.27  103.03  102.96  103.63  106.50 \n",
      "[1] \"\"\n",
      "[1] \"Testing each sample for parametric assumptions:\"\n",
      "\n",
      "\tShapiro-Wilk normality test\n",
      "\n",
      "data:  samp\n",
      "W = 0.99803, p-value = 0.2951\n",
      "\n",
      "\n",
      "\tShapiro-Wilk normality test\n",
      "\n",
      "data:  samp2\n",
      "W = 0.99731, p-value = 0.09463\n",
      "\n",
      "\n",
      "\tF test to compare two variances\n",
      "\n",
      "data:  samp and samp2\n",
      "F = 0.9192, num df = 999, denom df = 999, p-value = 0.1832\n",
      "alternative hypothesis: true ratio of variances is not equal to 1\n",
      "95 percent confidence interval:\n",
      " 0.8119319 1.0406494\n",
      "sample estimates:\n",
      "ratio of variances \n",
      "         0.9192042 \n",
      "\n",
      "[1] \"The sample data met the parametric assumptions of normality and equal variances.\"\n",
      "\n",
      "\tWelch Two Sample t-test\n",
      "\n",
      "data:  samp and samp2\n",
      "t = -66.233, df = 1994.5, p-value < 2.2e-16\n",
      "alternative hypothesis: true difference in means is not equal to 0\n",
      "95 percent confidence interval:\n",
      " -3.037299 -2.862603\n",
      "sample estimates:\n",
      "mean of x mean of y \n",
      " 100.0076  102.9575 \n",
      "\n",
      "[1] \"Cohen's d =\"\n",
      "[1] -2.962033\n",
      "[1] \"There was a significant difference between the means of the samples.\"\n"
     ]
    },
    {
     "data": {
      "image/png": "[encoded data removed]",
      "text/plain": [
       "Plot with title \"Distributions of Two Samples\""
      ]
     },
     "metadata": {
      "image/png": {
       "height": 420,
       "width": 420
      }
     },
     "output_type": "display_data"
    },
    {
     "name": "stdout",
     "output_type": "stream",
     "text": [
      "[1] \"P-value obtained from permutation test = \"\n",
      "[1] 0\n"
     ]
    },
    {
     "data": {
      "image/png": "[encoded data removed]",
      "text/plain": [
       "Plot with title \"Estimated Sampling Distribution of Mean Differences\""
      ]
     },
     "metadata": {
      "image/png": {
       "height": 420,
       "width": 420
      }
     },
     "output_type": "display_data"
    }
   ],
   "source": [
    "# generating two normally distributed populations\n",
    "\n",
    "pop1 = rnorm(mean = 100, 10000)\n",
    "pop2 = rnorm(mean = 103, 10000)\n",
    "\n",
    "# generating a 'coinflip' to decide whether H0 will be true or false\n",
    "coin = c(0,1)\n",
    "coinflip = sample(coin, size = 1)\n",
    "\n",
    "# generating a sample from the H0 population if the coinflip == 1\n",
    "\n",
    "if (coinflip == 1){\n",
    "    samp = sample(pop1, size = 1000)\n",
    "    samp2 = sample(pop1, size = 1000)\n",
    "    hist(samp, main = 'Distributions of Two Samples',\n",
    "        xlab = 'Score on Variable', xlim = c(90,110), col = 'red')\n",
    "    hist(samp2, add = TRUE, col = 'blue')}\n",
    "   \n",
    "\n",
    "# generating a sample from a different population if the coinflip == 0\n",
    "\n",
    "if (coinflip == 0){\n",
    "   samp = sample(pop1, size = 1000)\n",
    "    samp2 = sample(pop2, size = 1000)\n",
    "    hist(samp, main = 'Distributions of Two Samples',\n",
    "        xlab = 'Score on Variable', xlim = c(90,110), col = 'red')\n",
    "    hist(samp2, add = TRUE, col = 'blue')}\n",
    "\n",
    "print('Sample 1:')\n",
    "print(summary(samp))\n",
    "print('Sample 2:')\n",
    "print(summary(samp2))\n",
    "\n",
    "print('')\n",
    "print('Testing each sample for parametric assumptions:')\n",
    "norm_test_samp = shapiro.test(samp)\n",
    "print(norm_test_samp)\n",
    "norm_test_samp2 = shapiro.test(samp2)\n",
    "print(norm_test_samp2)\n",
    "f_test = var.test(samp,samp2)\n",
    "print(f_test)\n",
    "\n",
    "if(norm_test_samp$p.value  > 0.05 & norm_test_samp2$p.value > 0.05 & f_test$p.value > 0.05){\n",
    "        print('The sample data met the parametric assumptions of normality and equal variances.')\n",
    "        res = t.test(samp,samp2)\n",
    "        print(res)\n",
    "        sd_pooled = sqrt((var(samp)+var(samp2))/2)\n",
    "        mean_diff = mean(samp) - mean(samp2)\n",
    "        cohen_d = mean_diff/sd_pooled\n",
    "        print(\"Cohen's d =\")\n",
    "        print(cohen_d)\n",
    "        if(res$p.value < 0.05){print('There was a significant difference between the means of the samples.')\n",
    "                      }else{print('There was a NOT significant difference between the means of the samples.')}\n",
    "        }else{print('Parametric assumptions not met! Consider a nonparametric test.')}\n",
    "\n",
    "\n",
    "# performing a permutation test (regardless of whether the samples are normally distributed)\n",
    "\n",
    "mean_diff = mean(samp) - mean(samp2)\n",
    "\n",
    "sample_size_one = length(samp)\n",
    "sample_size_two = length(samp2)\n",
    "\n",
    "combined = append(samp, samp2)\n",
    "\n",
    "simulated_mean_differences = c()\n",
    "\n",
    "n_iters = 10000\n",
    "\n",
    "for(i in seq(n_iters)){sim_one = sample(combined, sample_size_one)\n",
    "                   sim_two = sample(combined, sample_size_two)\n",
    "                   sim_diff = mean(sim_one) - mean(sim_two)\n",
    "                   simulated_mean_differences = append(simulated_mean_differences, sim_diff)}\n",
    "\n",
    "graph_max = max(c(abs(min(simulated_mean_differences)), abs(max(simulated_mean_differences)), abs(mean_diff)))\n",
    "graph_min = min(c(min(simulated_mean_differences), mean_diff))\n",
    "\n",
    "hist(simulated_mean_differences, main = 'Estimated Sampling Distribution of Mean Differences', \n",
    "     xlim = c(graph_min, graph_max), col = 'black')\n",
    "points(mean_diff, y = n_iters/100, col = 'red', pch = 20, cex = 2) \n",
    "legend(x = graph_min, y = n_iters/5,cex = 0.8,  legend = 'Resampling Distribution (Black) \\n  Sample Mean Difference (Red Dot)')\n",
    "\n",
    "# calculating a p value for the permutation test (proportion of resampled mean differences an equal or more extreme abolsute \n",
    "# distance from the sampling distribution mean as the actual sample mean difference)\n",
    "grtr_than_actual = subset(simulated_mean_differences, abs(simulated_mean_differences- mean(simulated_mean_differences)) >= abs(mean_diff- mean(simulated_mean_differences)))\n",
    "\n",
    "permutation_p = length(grtr_than_actual)/length(simulated_mean_differences)\n",
    "\n",
    "print('P-value obtained from permutation test = ')\n",
    "print(permutation_p)\n"
   ]
  },
  {
   "cell_type": "code",
   "execution_count": null,
   "metadata": {},
   "outputs": [],
   "source": []
  }
 ],
 "metadata": {
  "kernelspec": {
   "display_name": "R",
   "language": "R",
   "name": "ir"
  },
  "language_info": {
   "codemirror_mode": "r",
   "file_extension": ".r",
   "mimetype": "text/x-r-source",
   "name": "R",
   "pygments_lexer": "r",
   "version": "4.0.3"
  }
 },
 "nbformat": 4,
 "nbformat_minor": 4
}
