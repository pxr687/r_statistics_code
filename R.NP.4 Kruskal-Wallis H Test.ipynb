{
 "cells": [
  {
   "cell_type": "code",
   "execution_count": 1,
   "metadata": {},
   "outputs": [
    {
     "name": "stderr",
     "output_type": "stream",
     "text": [
      "Loading required package: ggplot2\n",
      "\n"
     ]
    },
    {
     "data": {
      "text/html": [
       "<table>\n",
       "<caption>A data.frame: 10 × 2</caption>\n",
       "<thead>\n",
       "\t<tr><th></th><th scope=col>pain_score</th><th scope=col>group</th></tr>\n",
       "\t<tr><th></th><th scope=col>&lt;int&gt;</th><th scope=col>&lt;fct&gt;</th></tr>\n",
       "</thead>\n",
       "<tbody>\n",
       "\t<tr><th scope=row>1</th><td>3</td><td>group_1</td></tr>\n",
       "\t<tr><th scope=row>2</th><td>1</td><td>group_1</td></tr>\n",
       "\t<tr><th scope=row>3</th><td>1</td><td>group_1</td></tr>\n",
       "\t<tr><th scope=row>4</th><td>4</td><td>group_1</td></tr>\n",
       "\t<tr><th scope=row>5</th><td>4</td><td>group_1</td></tr>\n",
       "\t<tr><th scope=row>6</th><td>5</td><td>group_1</td></tr>\n",
       "\t<tr><th scope=row>7</th><td>1</td><td>group_1</td></tr>\n",
       "\t<tr><th scope=row>8</th><td>3</td><td>group_1</td></tr>\n",
       "\t<tr><th scope=row>9</th><td>3</td><td>group_1</td></tr>\n",
       "\t<tr><th scope=row>10</th><td>1</td><td>group_1</td></tr>\n",
       "</tbody>\n",
       "</table>\n"
      ],
      "text/latex": [
       "A data.frame: 10 × 2\n",
       "\\begin{tabular}{r|ll}\n",
       "  & pain\\_score & group\\\\\n",
       "  & <int> & <fct>\\\\\n",
       "\\hline\n",
       "\t1 & 3 & group\\_1\\\\\n",
       "\t2 & 1 & group\\_1\\\\\n",
       "\t3 & 1 & group\\_1\\\\\n",
       "\t4 & 4 & group\\_1\\\\\n",
       "\t5 & 4 & group\\_1\\\\\n",
       "\t6 & 5 & group\\_1\\\\\n",
       "\t7 & 1 & group\\_1\\\\\n",
       "\t8 & 3 & group\\_1\\\\\n",
       "\t9 & 3 & group\\_1\\\\\n",
       "\t10 & 1 & group\\_1\\\\\n",
       "\\end{tabular}\n"
      ],
      "text/markdown": [
       "\n",
       "A data.frame: 10 × 2\n",
       "\n",
       "| <!--/--> | pain_score &lt;int&gt; | group &lt;fct&gt; |\n",
       "|---|---|---|\n",
       "| 1 | 3 | group_1 |\n",
       "| 2 | 1 | group_1 |\n",
       "| 3 | 1 | group_1 |\n",
       "| 4 | 4 | group_1 |\n",
       "| 5 | 4 | group_1 |\n",
       "| 6 | 5 | group_1 |\n",
       "| 7 | 1 | group_1 |\n",
       "| 8 | 3 | group_1 |\n",
       "| 9 | 3 | group_1 |\n",
       "| 10 | 1 | group_1 |\n",
       "\n"
      ],
      "text/plain": [
       "   pain_score group  \n",
       "1  3          group_1\n",
       "2  1          group_1\n",
       "3  1          group_1\n",
       "4  4          group_1\n",
       "5  4          group_1\n",
       "6  5          group_1\n",
       "7  1          group_1\n",
       "8  3          group_1\n",
       "9  3          group_1\n",
       "10 1          group_1"
      ]
     },
     "metadata": {},
     "output_type": "display_data"
    },
    {
     "name": "stdout",
     "output_type": "stream",
     "text": [
      "\n",
      "\tKruskal-Wallis rank sum test\n",
      "\n",
      "data:  pain_score by group\n",
      "Kruskal-Wallis chi-squared = 10.731, df = 2, p-value = 0.004675\n",
      "\n",
      "[1] \"There is a significant difference in the mean ranks of the treatment groups.\"\n",
      "\n",
      "\tPairwise comparisons using Wilcoxon rank sum test with continuity correction \n",
      "\n",
      "data:  df$pain_score and df$group \n",
      "\n",
      "        group_1 group_2\n",
      "group_2 0.0280  -      \n",
      "group_3 0.0072  0.6204 \n",
      "\n",
      "P value adjustment method: BH \n",
      "[1] \"There was a significant difference between the mean ranks of the pain scores of of group 1 & group 2\"\n",
      "[1] \"There was a significant difference between the mean ranks of the pain scores of of group 1 & group 3\"\n"
     ]
    },
    {
     "data": {
      "image/png": "[encoded data removed]",
      "text/plain": [
       "plot without title"
      ]
     },
     "metadata": {
      "image/png": {
       "height": 420,
       "width": 420
      }
     },
     "output_type": "display_data"
    }
   ],
   "source": [
    "library(\"ggpubr\")\n",
    "\n",
    "# probabilistically deciding if there will be a significant difference between the pain severity outcome scores\n",
    "# for three treatment groups (independent samples)\n",
    "\n",
    "coinflip = sample(c(0,1), 1)\n",
    "\n",
    "sample_sizes = seq(20, 100)\n",
    "\n",
    "if(coinflip == 1){\n",
    "    sample_1 = sample(seq(5), prob = c(1/5, 1/5, 1/5, 1/5, 1/5), replace= TRUE, size = sample(sample_sizes,1))\n",
    "    sample_2 = sample(seq(5), prob = c(0.5/5, 0.5/5, 1.5/5, 1.5/5, 1/5), replace= TRUE, size = sample(sample_sizes,1))\n",
    "    sample_3 = sample(seq(5), prob = c(0.1/5, 0.4/5, 1/5, 1.75/5, 1.75/5), replace= TRUE, size = sample(sample_sizes,1))\n",
    "    }else{\n",
    "    sample_1 = sample(seq(5), prob = c(1/5, 1/5, 1/5, 1/5, 1/5), replace= TRUE, size = sample(sample_sizes,1))\n",
    "    sample_2 = sample(seq(5), prob = c(1/5, 1/5, 1/5, 1/5, 1/5), replace= TRUE, size = sample(sample_sizes,1))\n",
    "    sample_3 = sample(seq(5), prob = c(1/5, 1/5, 1/5, 1/5, 1/5), replace= TRUE, size = sample(sample_sizes,1))\n",
    "}\n",
    "\n",
    "# generating labels for each score in each group\n",
    "group_1_labels = rep('group_1', length(sample_1))\n",
    "group_2_labels = rep('group_2', length(sample_2))\n",
    "group_3_labels = rep('group_3', length(sample_3))\n",
    "\n",
    "# creating a dataframe for the simulated data\n",
    "df = data.frame(pain_score = c(sample_1, sample_2, sample_3),\n",
    "                group = c(group_1_labels, group_2_labels, group_3_labels))\n",
    "\n",
    "df$group = as.factor(df$group)\n",
    "head(df, 10)\n",
    "\n",
    "# generating a line plot showing the pain scores for the three treatment groups\n",
    "ggline(df, x = \"group\", y = \"pain_score\", \n",
    "       add = c(\"mean_se\", \"jitter\"), \n",
    "       ylab = \"Pain Score\", xlab = \"Treatment\",\n",
    "      main = 'Pain Score for each Treatment Group')\n",
    "\n",
    "# performing a kruskal-wallis h test\n",
    "\n",
    "krusk_res = kruskal.test(pain_score ~ group, data = df)\n",
    "print(krusk_res)\n",
    "\n",
    "# performing pairwise comparisons, corrected for multiple testing, if the kruskal-wallis test is significant\n",
    "if(krusk_res$p.value <= 0.05){print('There is a significant difference in the mean ranks of the treatment groups.')\n",
    "                             pairwise_res = pairwise.wilcox.test(df$pain_score, df$group,\n",
    "                             p.adjust.method = \"BH\", exact = FALSE)\n",
    "                                print(pairwise_res)\n",
    "                              if(pairwise_res$p.value[1] <= 0.05) \n",
    "                              {print('There was a significant difference between the mean ranks of the pain scores of of group 1 & group 2')}\n",
    "                              if(pairwise_res$p.value[2] <= 0.05) \n",
    "                              {print('There was a significant difference between the mean ranks of the pain scores of of group 1 & group 3')}\n",
    "                              if(pairwise_res$p.value[4] <= 0.05) \n",
    "                              {print('There was a significant difference between the mean ranks of the pain scores of of group 2 & group 3')}\n",
    "                             }else{print('There is NOT a significant difference in the mean ranks of the treatment groups.')}"
   ]
  },
  {
   "cell_type": "code",
   "execution_count": null,
   "metadata": {},
   "outputs": [],
   "source": []
  }
 ],
 "metadata": {
  "kernelspec": {
   "display_name": "R",
   "language": "R",
   "name": "ir"
  },
  "language_info": {
   "codemirror_mode": "r",
   "file_extension": ".r",
   "mimetype": "text/x-r-source",
   "name": "R",
   "pygments_lexer": "r",
   "version": "4.0.3"
  }
 },
 "nbformat": 4,
 "nbformat_minor": 4
}
