{
 "cells": [
  {
   "cell_type": "code",
   "execution_count": 1,
   "metadata": {},
   "outputs": [
    {
     "name": "stdout",
     "output_type": "stream",
     "text": [
      "\n",
      "\tShapiro-Wilk normality test\n",
      "\n",
      "data:  samp_1\n",
      "W = 0.99854, p-value = 0.9611\n",
      "\n",
      "\n",
      "\tF test to compare two variances\n",
      "\n",
      "data:  pop_1 and samp_1\n",
      "F = 1.0592, num df = 9999, denom df = 486, p-value = 0.3962\n",
      "alternative hypothesis: true ratio of variances is not equal to 1\n",
      "95 percent confidence interval:\n",
      " 0.9276029 1.2003383\n",
      "sample estimates:\n",
      "ratio of variances \n",
      "          1.059229 \n",
      "\n",
      "[1] \"The sample data meets the parametric assumptions.\"\n",
      "\n",
      "\tOne Sample t-test\n",
      "\n",
      "data:  samp_1\n",
      "t = -0.13518, df = 486, p-value = 0.8925\n",
      "alternative hypothesis: true mean is not equal to 52\n",
      "95 percent confidence interval:\n",
      " 50.61590 53.20591\n",
      "sample estimates:\n",
      "mean of x \n",
      "  51.9109 \n",
      "\n",
      "[1] \"There was NOT a significant difference between the sample mean and the population mean\"\n"
     ]
    },
    {
     "data": {
      "image/png": "[encoded data removed]",
      "text/plain": [
       "Plot with title \"Histogram of the Null Population (Red) and the Sample (Light Blue)\""
      ]
     },
     "metadata": {
      "image/png": {
       "height": 420,
       "width": 420
      }
     },
     "output_type": "display_data"
    },
    {
     "name": "stdout",
     "output_type": "stream",
     "text": [
      "[1] \"P-value obtained from permutation test = \"\n",
      "[1] 0.9424\n"
     ]
    },
    {
     "data": {
      "image/png": "[encoded data removed]",
      "text/plain": [
       "Plot with title \"Resampling Distribution of the Null Population\""
      ]
     },
     "metadata": {
      "image/png": {
       "height": 420,
       "width": 420
      }
     },
     "output_type": "display_data"
    }
   ],
   "source": [
    "# using a coinflip to decide if the sample will be drawn from the null population, or an alternate population\n",
    "coinflip = sample(c(0,1), size = 1)\n",
    "\n",
    "# randomly determining the mean of the two populations\n",
    "mean_1 = sample(seq(50,60), size = 1)\n",
    "mean_2 = sample(seq(30,100), size = 1)\n",
    "\n",
    "# making sure the alternate mean is not the same as the null mean\n",
    "while(mean_1 == mean_2){mean_2 = sample(seq(50,60), size = 1)}\n",
    "\n",
    "# creating the populations\n",
    "if(coinflip == 0)\n",
    "    {pop_1 = rnorm(n = 10000, mean = mean_1, sd = 15)\n",
    "} else \n",
    "    {pop_1 = rnorm(n = 10000, mean = mean_1, sd = 15)\n",
    "pop_2 = rnorm(n = 10000, mean = mean_2, sd = 15)}\n",
    "\n",
    "# drawing a sample from one of the populations, conditional on the value of the coinflip\n",
    "\n",
    "samp_size = sample(seq(100, 600), size = 1)\n",
    "\n",
    "if(coinflip == 0)\n",
    "{samp_1 = sample(pop_1, size = samp_size)\n",
    "\n",
    "} else\n",
    "{samp_1 = sample(pop_2, size = samp_size)\n",
    "}\n",
    "\n",
    "# plotting the population and the sample\n",
    "\n",
    "hist(pop_1,  xlab = 'Score', ylab = 'Frequency', col = 'red', main = \"\" )\n",
    "hist(samp_1, add = TRUE, col = 'lightblue')\n",
    "title('Histogram of the Null Population (Red) and the Sample (Light Blue)')\n",
    "\n",
    "\n",
    "# performing a one sample t test if the data is normally distributed, generating an error if not\n",
    "norm_test = shapiro.test(samp_1)\n",
    "print(norm_test)\n",
    "f_test = var.test(pop_1, samp_1)\n",
    "print(f_test)\n",
    "\n",
    "if(norm_test$p.value > 0.05 & f_test$p.value >0.05){print('The sample data meets the parametric assumptions.')\n",
    "                                res = t.test(x = samp_1, mu = mean_1)\n",
    "                             print(res)\n",
    "                             if(res$p.value <= 0.05){print('There was a significant difference between the sample mean and the population mean')\n",
    "                                                    }else{print('There was NOT a significant difference between the sample mean and the population mean')}\n",
    "                            }else{print('The sample does not meet the parametric assumptions, consider a nonparametric test!')}\n",
    "\n",
    "\n",
    "# performing a permutation test (regardless of whether the sample meets the parametric assumptions)\n",
    "\n",
    "n_iters = 10000\n",
    "resamp_dist = vector(mode = 'numeric')\n",
    "\n",
    "# creating a sampling distribution from the null population\n",
    "for(i in seq(n_iters)) {\n",
    "    resamp = mean(sample(pop_1, size = samp_size))\n",
    "    resamp_dist = append(resamp_dist, resamp)}\n",
    "\n",
    "# automatically scaling the x axis of the sampling distribution histogram\n",
    "graph_max = max(c(abs(min(resamp_dist)), abs(max(resamp_dist)), abs(mean(samp_1))))\n",
    "graph_min = min(c(min(resamp_dist), mean(samp_1)))\n",
    "\n",
    "# plotting a histogram of the  estimated sampling distribution\n",
    "hist(resamp_dist, main = 'Resampling Distribution of the Null Population',\n",
    "    xlab = 'Sample Means', ylab = 'Frequency', col = 'blue', xlim = c(graph_min, graph_max))\n",
    "points(mean(samp_1), y = n_iters/500, col = 'red', pch = 20, cex = 2) \n",
    "legend(x = min(resamp_dist), y =n_iters/6,cex = 0.6,  legend = 'Resampling Distribution (Blue) \\n  Sample Mean (Red Dot)')\n",
    "\n",
    "# calculating a p value for the permutation test (proportion of resampled means an equal or more extreme abolsute \n",
    "# distance from the sampling distribution mean as the actual sample mean)\n",
    "grtr_than_sample_mean = subset(resamp_dist, abs(resamp_dist- mean(resamp_dist)) >= abs(mean(samp_1)- mean(resamp_dist)))\n",
    "\n",
    "permutation_p = length(grtr_than_sample_mean)/length(resamp_dist)\n",
    "\n",
    "print('P-value obtained from permutation test = ')\n",
    "print(permutation_p)\n"
   ]
  },
  {
   "cell_type": "code",
   "execution_count": null,
   "metadata": {},
   "outputs": [],
   "source": []
  }
 ],
 "metadata": {
  "kernelspec": {
   "display_name": "R",
   "language": "R",
   "name": "ir"
  },
  "language_info": {
   "codemirror_mode": "r",
   "file_extension": ".r",
   "mimetype": "text/x-r-source",
   "name": "R",
   "pygments_lexer": "r",
   "version": "4.0.3"
  }
 },
 "nbformat": 4,
 "nbformat_minor": 4
}
