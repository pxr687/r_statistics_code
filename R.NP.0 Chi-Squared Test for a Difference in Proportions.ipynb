{
 "cells": [
  {
   "cell_type": "code",
   "execution_count": 1,
   "metadata": {},
   "outputs": [
    {
     "name": "stdout",
     "output_type": "stream",
     "text": [
      "\n",
      "\t2-sample test for equality of proportions with continuity correction\n",
      "\n",
      "data:  deaths_both_groups out of n_trials\n",
      "X-squared = 51.665, df = 1, p-value = 6.581e-13\n",
      "alternative hypothesis: two.sided\n",
      "95 percent confidence interval:\n",
      " 0.0629450 0.1115653\n",
      "sample estimates:\n",
      "   prop 1    prop 2 \n",
      "0.4804805 0.3932253 \n",
      "\n",
      "[1] \"There was a significant difference in the proportion of deaths for each group.\"\n"
     ]
    },
    {
     "data": {
      "image/png": "[encoded data removed]",
      "text/plain": [
       "plot without title"
      ]
     },
     "metadata": {
      "image/png": {
       "height": 420,
       "width": 420
      }
     },
     "output_type": "display_data"
    }
   ],
   "source": [
    "# randomly assigning a probability of death given exposure/nonexposure for a simulated population\n",
    "\n",
    "exposure_death_prob = sample(seq(0.4, 0.8, 0.1), 1)\n",
    "\n",
    "non_exposure_death_prob = sample(seq(0.1, 0.8, 0.1), 1)\n",
    "\n",
    "# probabilistically assigning sample sizes for the exposed and nonexposed groups\n",
    "\n",
    "samp_size_exposed = sample(seq(1000, 2000))\n",
    "\n",
    "samp_size_nonexposed = sample(seq(5000, 10000))\n",
    "\n",
    "# probabilistically generating the groups\n",
    "exposed = sample(c('dead', 'alive'), samp_size_exposed, replace = TRUE, \n",
    "                 prob = c(exposure_death_prob, 1 - exposure_death_prob))\n",
    "\n",
    "non_exposed = sample(c('dead', 'alive'), samp_size_nonexposed, replace = TRUE, \n",
    "                     prob = c(non_exposure_death_prob ,1-non_exposure_death_prob ))\n",
    "\n",
    "# calculating the proportion deaths in each group\n",
    "prop_dead_exposed = length(subset(exposed, exposed == 'dead'))/length(exposed)\n",
    "\n",
    "prop_dead_non_exposed = length(subset(non_exposed, non_exposed == 'dead'))/length(non_exposed)\n",
    "\n",
    "# creating a plot of the proportions\n",
    "barplot(names.arg =  c('exposed', 'non_exposed'), \n",
    "        height = c(prop_dead_exposed, prop_dead_non_exposed),\n",
    "       col = c('red', 'blue'),\n",
    "       ylab = 'proportion dead')\n",
    "\n",
    "# testing for a difference in the proportions\n",
    "\n",
    "deaths_both_groups = c(length(subset(exposed, exposed == 'dead')), length(subset(non_exposed, non_exposed == 'dead')))\n",
    "\n",
    "n_trials = c(length(exposed), length(non_exposed))\n",
    "\n",
    "res = prop.test(x = deaths_both_groups, n = n_trials)\n",
    "print(res)\n",
    "\n",
    "if(res$p.value <= 0.05){print('There was a significant difference in the proportion of deaths for each group.')\n",
    "                       }else{print('There was a NOT a significant difference in the proportion of deaths for each group.')}"
   ]
  },
  {
   "cell_type": "code",
   "execution_count": null,
   "metadata": {},
   "outputs": [],
   "source": []
  }
 ],
 "metadata": {
  "kernelspec": {
   "display_name": "R",
   "language": "R",
   "name": "ir"
  },
  "language_info": {
   "codemirror_mode": "r",
   "file_extension": ".r",
   "mimetype": "text/x-r-source",
   "name": "R",
   "pygments_lexer": "r",
   "version": "4.0.3"
  }
 },
 "nbformat": 4,
 "nbformat_minor": 4
}
