{
 "cells": [
  {
   "cell_type": "code",
   "execution_count": 1,
   "metadata": {
    "scrolled": false
   },
   "outputs": [
    {
     "name": "stderr",
     "output_type": "stream",
     "text": [
      "Loading required package: ggplot2\n",
      "\n"
     ]
    },
    {
     "data": {
      "text/html": [
       "<table>\n",
       "<caption>A data.frame: 10 × 3</caption>\n",
       "<thead>\n",
       "\t<tr><th></th><th scope=col>pain_score</th><th scope=col>condition</th><th scope=col>person</th></tr>\n",
       "\t<tr><th></th><th scope=col>&lt;int&gt;</th><th scope=col>&lt;fct&gt;</th><th scope=col>&lt;fct&gt;</th></tr>\n",
       "</thead>\n",
       "<tbody>\n",
       "\t<tr><th scope=row>1</th><td>4</td><td>condition_1</td><td>1 </td></tr>\n",
       "\t<tr><th scope=row>2</th><td>5</td><td>condition_1</td><td>2 </td></tr>\n",
       "\t<tr><th scope=row>3</th><td>4</td><td>condition_1</td><td>3 </td></tr>\n",
       "\t<tr><th scope=row>4</th><td>3</td><td>condition_1</td><td>4 </td></tr>\n",
       "\t<tr><th scope=row>5</th><td>4</td><td>condition_1</td><td>5 </td></tr>\n",
       "\t<tr><th scope=row>6</th><td>3</td><td>condition_1</td><td>6 </td></tr>\n",
       "\t<tr><th scope=row>7</th><td>2</td><td>condition_1</td><td>7 </td></tr>\n",
       "\t<tr><th scope=row>8</th><td>4</td><td>condition_1</td><td>8 </td></tr>\n",
       "\t<tr><th scope=row>9</th><td>4</td><td>condition_1</td><td>9 </td></tr>\n",
       "\t<tr><th scope=row>10</th><td>2</td><td>condition_1</td><td>10</td></tr>\n",
       "</tbody>\n",
       "</table>\n"
      ],
      "text/latex": [
       "A data.frame: 10 × 3\n",
       "\\begin{tabular}{r|lll}\n",
       "  & pain\\_score & condition & person\\\\\n",
       "  & <int> & <fct> & <fct>\\\\\n",
       "\\hline\n",
       "\t1 & 4 & condition\\_1 & 1 \\\\\n",
       "\t2 & 5 & condition\\_1 & 2 \\\\\n",
       "\t3 & 4 & condition\\_1 & 3 \\\\\n",
       "\t4 & 3 & condition\\_1 & 4 \\\\\n",
       "\t5 & 4 & condition\\_1 & 5 \\\\\n",
       "\t6 & 3 & condition\\_1 & 6 \\\\\n",
       "\t7 & 2 & condition\\_1 & 7 \\\\\n",
       "\t8 & 4 & condition\\_1 & 8 \\\\\n",
       "\t9 & 4 & condition\\_1 & 9 \\\\\n",
       "\t10 & 2 & condition\\_1 & 10\\\\\n",
       "\\end{tabular}\n"
      ],
      "text/markdown": [
       "\n",
       "A data.frame: 10 × 3\n",
       "\n",
       "| <!--/--> | pain_score &lt;int&gt; | condition &lt;fct&gt; | person &lt;fct&gt; |\n",
       "|---|---|---|---|\n",
       "| 1 | 4 | condition_1 | 1  |\n",
       "| 2 | 5 | condition_1 | 2  |\n",
       "| 3 | 4 | condition_1 | 3  |\n",
       "| 4 | 3 | condition_1 | 4  |\n",
       "| 5 | 4 | condition_1 | 5  |\n",
       "| 6 | 3 | condition_1 | 6  |\n",
       "| 7 | 2 | condition_1 | 7  |\n",
       "| 8 | 4 | condition_1 | 8  |\n",
       "| 9 | 4 | condition_1 | 9  |\n",
       "| 10 | 2 | condition_1 | 10 |\n",
       "\n"
      ],
      "text/plain": [
       "   pain_score condition   person\n",
       "1  4          condition_1 1     \n",
       "2  5          condition_1 2     \n",
       "3  4          condition_1 3     \n",
       "4  3          condition_1 4     \n",
       "5  4          condition_1 5     \n",
       "6  3          condition_1 6     \n",
       "7  2          condition_1 7     \n",
       "8  4          condition_1 8     \n",
       "9  4          condition_1 9     \n",
       "10 2          condition_1 10    "
      ]
     },
     "metadata": {},
     "output_type": "display_data"
    },
    {
     "name": "stdout",
     "output_type": "stream",
     "text": [
      "\n",
      "\tFriedman rank sum test\n",
      "\n",
      "data:  pain_score and condition and person\n",
      "Friedman chi-squared = 18.896, df = 2, p-value = 7.887e-05\n",
      "\n",
      "[1] \"There is a significant difference in the mean ranks of the different conditions.\"\n",
      "\n",
      "\tPairwise comparisons using Wilcoxon signed rank test with continuity correction \n",
      "\n",
      "data:  df$pain_score and df$condition \n",
      "\n",
      "            condition_1 condition_2\n",
      "condition_2 0.011       -          \n",
      "condition_3 5.3e-05     0.065      \n",
      "\n",
      "P value adjustment method: BH \n",
      "[1] \"There was a significant difference between the mean ranks of the pain scores of of condition 1 & condition 2\"\n",
      "[1] \"There was a significant difference between the mean ranks of the pain scores of of condition 1 & condition 3\"\n"
     ]
    },
    {
     "data": {
      "image/png": "[encoded data removed]",
      "text/plain": [
       "plot without title"
      ]
     },
     "metadata": {
      "image/png": {
       "height": 420,
       "width": 420
      }
     },
     "output_type": "display_data"
    }
   ],
   "source": [
    "library(\"ggpubr\")\n",
    "\n",
    "# probabilistically deciding if there will be a significant difference between the pain severity outcome scores\n",
    "# for three conditions (dependent samples)\n",
    "\n",
    "coinflip = sample(c(0,1), 1)\n",
    "\n",
    "sample_size = sample(seq(20, 100),1)\n",
    "\n",
    "if(coinflip == 1){\n",
    "    sample_1 = sample(seq(5), prob = c(1/5, 1/5, 1/5, 1/5, 1/5), replace= TRUE, size = sample_size)\n",
    "    sample_2 = sample(seq(5), prob = c(0.5/5, 0.5/5, 1.5/5, 1.5/5, 1/5), replace= TRUE, size = sample_size)\n",
    "    sample_3 = sample(seq(5), prob = c(0.1/5, 0.4/5, 1/5, 1.75/5, 1.75/5), replace= TRUE, size = sample_size)\n",
    "    }else{\n",
    "    sample_1 = sample(seq(5), prob = c(1/5, 1/5, 1/5, 1/5, 1/5), replace= TRUE, size = sample_size)\n",
    "    sample_2 = sample(seq(5), prob = c(1/5, 1/5, 1/5, 1/5, 1/5), replace= TRUE, size = sample_size)\n",
    "    sample_3 = sample(seq(5), prob = c(1/5, 1/5, 1/5, 1/5, 1/5), replace= TRUE, size = sample_size)\n",
    "}\n",
    "\n",
    "# generating labels for each score in each condition\n",
    "condition_1_labels = rep('condition_1', length(sample_1))\n",
    "condition_2_labels = rep('condition_2', length(sample_2))\n",
    "condition_3_labels = rep('condition_3', length(sample_3))\n",
    "person_labels = seq(sample_size)\n",
    "\n",
    "# creating a dataframe for the simulated data\n",
    "df = data.frame(pain_score = c(sample_1, sample_2, sample_3),\n",
    "                condition = c(condition_1_labels, condition_2_labels, condition_3_labels),\n",
    "               person = c(person_labels, person_labels, person_labels))\n",
    "\n",
    "df$condition = as.factor(df$condition)\n",
    "df$person = as.factor(df$person)\n",
    "head(df, 10)\n",
    "\n",
    "# generating a line plot showing the pain scores for the three treatment conditions\n",
    "ggline(df, x = \"condition\", y = \"pain_score\", \n",
    "       add = c(\"mean_se\", \"jitter\"), \n",
    "       ylab = \"Pain Score\", xlab = \"Condition\",\n",
    "      main = 'Pain Score for each Condition')\n",
    "\n",
    "# performing a  friedman test\n",
    "\n",
    "fried_res = friedman.test(pain_score ~ condition|person, data = df)\n",
    "print(fried_res)\n",
    "\n",
    "# performing pairwise comparisons, corrected for multiple testing, if the friedman test is significant\n",
    "if(fried_res$p.value <= 0.05){print('There is a significant difference in the mean ranks of the different conditions.')\n",
    "                             pairwise_res = pairwise.wilcox.test(df$pain_score, df$condition,\n",
    "                             p.adjust.method = \"BH\", paired = TRUE, exact = FALSE)\n",
    "                                print(pairwise_res)\n",
    "                              if(pairwise_res$p.value[1] <= 0.05) \n",
    "                              {print('There was a significant difference between the mean ranks of the pain scores of of condition 1 & condition 2')}\n",
    "                              if(pairwise_res$p.value[2] <= 0.05) \n",
    "                              {print('There was a significant difference between the mean ranks of the pain scores of of condition 1 & condition 3')}\n",
    "                              if(pairwise_res$p.value[4] <= 0.05) \n",
    "                              {print('There was a significant difference between the mean ranks of the pain scores of of condition 2 & condition 3')}\n",
    "                             }else{print('There is NOT a significant difference in the mean ranks of the treatment conditions.')}"
   ]
  },
  {
   "cell_type": "code",
   "execution_count": null,
   "metadata": {},
   "outputs": [],
   "source": []
  }
 ],
 "metadata": {
  "kernelspec": {
   "display_name": "R",
   "language": "R",
   "name": "ir"
  },
  "language_info": {
   "codemirror_mode": "r",
   "file_extension": ".r",
   "mimetype": "text/x-r-source",
   "name": "R",
   "pygments_lexer": "r",
   "version": "4.0.3"
  }
 },
 "nbformat": 4,
 "nbformat_minor": 4
}
