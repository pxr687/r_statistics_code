{
 "cells": [
  {
   "cell_type": "code",
   "execution_count": 24,
   "metadata": {},
   "outputs": [
    {
     "data": {
      "text/plain": [
       "\n",
       "\tExact binomial test\n",
       "\n",
       "data:  no_addicts_samp_1 and n_1\n",
       "number of successes = 5194, number of trials = 7888, p-value < 2.2e-16\n",
       "alternative hypothesis: true probability of success is not equal to 0.7330245\n",
       "95 percent confidence interval:\n",
       " 0.6478829 0.6689370\n",
       "sample estimates:\n",
       "probability of success \n",
       "             0.6584686 \n"
      ]
     },
     "metadata": {},
     "output_type": "display_data"
    },
    {
     "data": {
      "image/png": "[encoded data removed]",
      "text/plain": [
       "plot without title"
      ]
     },
     "metadata": {
      "image/png": {
       "height": 420,
       "width": 420
      }
     },
     "output_type": "display_data"
    }
   ],
   "source": [
    "# probabilistically determining the proportion of addicts in two samples\n",
    "n_1  = as.integer(rnorm(mean = 10000, sd = 4000, n =1))\n",
    "addict_prev_1 = sample(seq(0,1, 0.01), 1)\n",
    "sample_1 = sample(c('addict', 'nonaddict'), prob = c(addict_prev_1, 1 - addict_prev_1), \n",
    "                      replace = TRUE, size = n_1)\n",
    "\n",
    "n_2  = as.integer(rnorm(mean = 10000, sd = 4000, n =1))\n",
    "addict_prev_2 = sample(seq(0,1, 0.01), 1)\n",
    "sample_2 = sample(c('addict', 'nonaddict'), prob = c(addict_prev_2, 1 - addict_prev_2), \n",
    "                      replace = TRUE, size = n_2)\n",
    "\n",
    "# calculating the proportion of addicts in each sample\n",
    "prop_addicts_samp_1 = length(subset(sample_1, sample_1 == 'addict'))/length(sample_1)\n",
    "\n",
    "prop_addicts_samp_2 = length(subset(sample_2, sample_2 == 'addict'))/length(sample_2)\n",
    "\n",
    "# plotting the proportions\n",
    "barplot(c(prop_addicts_samp_1, prop_addicts_samp_2), names.arg = c('sample 1', 'sample 2'),\n",
    "       ylab = 'proportion of addicts', col = c('red', 'blue'))\n",
    "\n",
    "# performing a binomial test\n",
    "\n",
    "no_addicts_samp_1 = length(subset(sample_1, sample_1 == 'addict'))\n",
    "\n",
    "binom.test(x = no_addicts_samp_1 , n = n_1, p = prop_addicts_samp_2 )"
   ]
  },
  {
   "cell_type": "code",
   "execution_count": null,
   "metadata": {},
   "outputs": [],
   "source": []
  }
 ],
 "metadata": {
  "kernelspec": {
   "display_name": "R",
   "language": "R",
   "name": "ir"
  },
  "language_info": {
   "codemirror_mode": "r",
   "file_extension": ".r",
   "mimetype": "text/x-r-source",
   "name": "R",
   "pygments_lexer": "r",
   "version": "4.0.3"
  }
 },
 "nbformat": 4,
 "nbformat_minor": 4
}
