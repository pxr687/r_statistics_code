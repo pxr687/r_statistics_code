{
 "cells": [
  {
   "cell_type": "code",
   "execution_count": 72,
   "metadata": {},
   "outputs": [
    {
     "data": {
      "text/plain": [
       "\n",
       "\tOne-sample z-Test\n",
       "\n",
       "data:  samp\n",
       "z = 95.884, p-value < 2.2e-16\n",
       "alternative hypothesis: true mean is not equal to 99.98339\n",
       "95 percent confidence interval:\n",
       " 102.9690 103.0936\n",
       "sample estimates:\n",
       "mean of x \n",
       " 103.0313 \n"
      ]
     },
     "metadata": {},
     "output_type": "display_data"
    },
    {
     "data": {
      "image/png": "[encoded data removed]",
      "text/plain": [
       "Plot with title \"Underlying Population under H0\""
      ]
     },
     "metadata": {},
     "output_type": "display_data"
    }
   ],
   "source": [
    "# generating two normally distributed populations\n",
    "\n",
    "pop1 = rnorm(mean = 100, 10000)\n",
    "pop2 = rnorm(mean = 103, 10000)\n",
    "\n",
    "# generating a 'coinflip' to decide whether HO will be true or false\n",
    "coin = c(0,1)\n",
    "coinflip =  sample(coin, size = 1)\n",
    "\n",
    "# generating a sample from the H0 population if the coinflip == 1\n",
    "\n",
    "if (coinflip == 1){\n",
    "    samp <- sample(pop1, size = 1000)\n",
    "    hist(pop1, main = 'Underlying Population under H0',\n",
    "        xlab = 'Score on Variable', xlim = c(90,110), col = 'blue')\n",
    "    hist(samp, add = TRUE, col = 'red')\n",
    "    text(mean(samp)+4, 1000, 'Sample Shown in Red')}\n",
    "\n",
    "# generating a sample from a different population if the coinflip == 0\n",
    "\n",
    "if (coinflip == 0){\n",
    "    samp = sample(pop2, size = 1000)\n",
    "    hist(pop1, main = 'Underlying Population under H0',\n",
    "        xlab = 'Score on Variable', xlim = c(90,110), col ='blue')\n",
    "    hist(samp, add = TRUE, col = 'red')\n",
    "     text(mean(samp)+4, 1000, 'Sample Shown in Red')}\n",
    "\n",
    "# calculating the population variance\n",
    "\n",
    "var_pop1 = c()\n",
    "for (i in pop1){\n",
    "    var_pop1 = append(var_pop1, (i-mean(pop1))**2, after = length(var_pop1))}\n",
    "\n",
    "varpop1 = sum(var_pop1)/length(pop1)\n",
    "\n",
    "# performing the one sample z test\n",
    "\n",
    "library('BSDA')\n",
    "\n",
    "z_res = z.test(samp, sigma.x = sqrt(varpop1), mu = mean(pop1))\n",
    "\n",
    "z_res"
   ]
  }
 ],
 "metadata": {
  "kernelspec": {
   "display_name": "R",
   "language": "R",
   "name": "ir"
  },
  "language_info": {
   "codemirror_mode": "r",
   "file_extension": ".r",
   "mimetype": "text/x-r-source",
   "name": "R",
   "pygments_lexer": "r",
   "version": "4.0.3"
  }
 },
 "nbformat": 4,
 "nbformat_minor": 4
}
