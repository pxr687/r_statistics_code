{
 "cells": [
  {
   "cell_type": "code",
   "execution_count": 1,
   "metadata": {
    "scrolled": false
   },
   "outputs": [
    {
     "name": "stderr",
     "output_type": "stream",
     "text": [
      "Loading required package: foreign\n",
      "\n",
      "Loading required package: ggplot2\n",
      "\n",
      "Loading required package: MASS\n",
      "\n",
      "Loading required package: reshape2\n",
      "\n"
     ]
    },
    {
     "data": {
      "text/html": [
       "<table>\n",
       "<caption>A data.frame: 15 × 4</caption>\n",
       "<thead>\n",
       "\t<tr><th></th><th scope=col>apply</th><th scope=col>pared</th><th scope=col>public</th><th scope=col>gpa</th></tr>\n",
       "\t<tr><th></th><th scope=col>&lt;fct&gt;</th><th scope=col>&lt;int&gt;</th><th scope=col>&lt;int&gt;</th><th scope=col>&lt;dbl&gt;</th></tr>\n",
       "</thead>\n",
       "<tbody>\n",
       "\t<tr><th scope=row>1</th><td>very likely    </td><td>0</td><td>0</td><td>3.26</td></tr>\n",
       "\t<tr><th scope=row>2</th><td>somewhat likely</td><td>1</td><td>0</td><td>3.21</td></tr>\n",
       "\t<tr><th scope=row>3</th><td>unlikely       </td><td>1</td><td>1</td><td>3.94</td></tr>\n",
       "\t<tr><th scope=row>4</th><td>somewhat likely</td><td>0</td><td>0</td><td>2.81</td></tr>\n",
       "\t<tr><th scope=row>5</th><td>somewhat likely</td><td>0</td><td>0</td><td>2.53</td></tr>\n",
       "\t<tr><th scope=row>6</th><td>unlikely       </td><td>0</td><td>1</td><td>2.59</td></tr>\n",
       "\t<tr><th scope=row>7</th><td>somewhat likely</td><td>0</td><td>0</td><td>2.56</td></tr>\n",
       "\t<tr><th scope=row>8</th><td>somewhat likely</td><td>0</td><td>0</td><td>2.73</td></tr>\n",
       "\t<tr><th scope=row>9</th><td>unlikely       </td><td>0</td><td>0</td><td>3.00</td></tr>\n",
       "\t<tr><th scope=row>10</th><td>somewhat likely</td><td>1</td><td>0</td><td>3.50</td></tr>\n",
       "\t<tr><th scope=row>11</th><td>unlikely       </td><td>1</td><td>1</td><td>3.65</td></tr>\n",
       "\t<tr><th scope=row>12</th><td>somewhat likely</td><td>0</td><td>0</td><td>2.84</td></tr>\n",
       "\t<tr><th scope=row>13</th><td>very likely    </td><td>0</td><td>1</td><td>3.90</td></tr>\n",
       "\t<tr><th scope=row>14</th><td>somewhat likely</td><td>0</td><td>0</td><td>2.68</td></tr>\n",
       "\t<tr><th scope=row>15</th><td>unlikely       </td><td>1</td><td>0</td><td>3.57</td></tr>\n",
       "</tbody>\n",
       "</table>\n"
      ],
      "text/latex": [
       "A data.frame: 15 × 4\n",
       "\\begin{tabular}{r|llll}\n",
       "  & apply & pared & public & gpa\\\\\n",
       "  & <fct> & <int> & <int> & <dbl>\\\\\n",
       "\\hline\n",
       "\t1 & very likely     & 0 & 0 & 3.26\\\\\n",
       "\t2 & somewhat likely & 1 & 0 & 3.21\\\\\n",
       "\t3 & unlikely        & 1 & 1 & 3.94\\\\\n",
       "\t4 & somewhat likely & 0 & 0 & 2.81\\\\\n",
       "\t5 & somewhat likely & 0 & 0 & 2.53\\\\\n",
       "\t6 & unlikely        & 0 & 1 & 2.59\\\\\n",
       "\t7 & somewhat likely & 0 & 0 & 2.56\\\\\n",
       "\t8 & somewhat likely & 0 & 0 & 2.73\\\\\n",
       "\t9 & unlikely        & 0 & 0 & 3.00\\\\\n",
       "\t10 & somewhat likely & 1 & 0 & 3.50\\\\\n",
       "\t11 & unlikely        & 1 & 1 & 3.65\\\\\n",
       "\t12 & somewhat likely & 0 & 0 & 2.84\\\\\n",
       "\t13 & very likely     & 0 & 1 & 3.90\\\\\n",
       "\t14 & somewhat likely & 0 & 0 & 2.68\\\\\n",
       "\t15 & unlikely        & 1 & 0 & 3.57\\\\\n",
       "\\end{tabular}\n"
      ],
      "text/markdown": [
       "\n",
       "A data.frame: 15 × 4\n",
       "\n",
       "| <!--/--> | apply &lt;fct&gt; | pared &lt;int&gt; | public &lt;int&gt; | gpa &lt;dbl&gt; |\n",
       "|---|---|---|---|---|\n",
       "| 1 | very likely     | 0 | 0 | 3.26 |\n",
       "| 2 | somewhat likely | 1 | 0 | 3.21 |\n",
       "| 3 | unlikely        | 1 | 1 | 3.94 |\n",
       "| 4 | somewhat likely | 0 | 0 | 2.81 |\n",
       "| 5 | somewhat likely | 0 | 0 | 2.53 |\n",
       "| 6 | unlikely        | 0 | 1 | 2.59 |\n",
       "| 7 | somewhat likely | 0 | 0 | 2.56 |\n",
       "| 8 | somewhat likely | 0 | 0 | 2.73 |\n",
       "| 9 | unlikely        | 0 | 0 | 3.00 |\n",
       "| 10 | somewhat likely | 1 | 0 | 3.50 |\n",
       "| 11 | unlikely        | 1 | 1 | 3.65 |\n",
       "| 12 | somewhat likely | 0 | 0 | 2.84 |\n",
       "| 13 | very likely     | 0 | 1 | 3.90 |\n",
       "| 14 | somewhat likely | 0 | 0 | 2.68 |\n",
       "| 15 | unlikely        | 1 | 0 | 3.57 |\n",
       "\n"
      ],
      "text/plain": [
       "   apply           pared public gpa \n",
       "1  very likely     0     0      3.26\n",
       "2  somewhat likely 1     0      3.21\n",
       "3  unlikely        1     1      3.94\n",
       "4  somewhat likely 0     0      2.81\n",
       "5  somewhat likely 0     0      2.53\n",
       "6  unlikely        0     1      2.59\n",
       "7  somewhat likely 0     0      2.56\n",
       "8  somewhat likely 0     0      2.73\n",
       "9  unlikely        0     0      3.00\n",
       "10 somewhat likely 1     0      3.50\n",
       "11 unlikely        1     1      3.65\n",
       "12 somewhat likely 0     0      2.84\n",
       "13 very likely     0     1      3.90\n",
       "14 somewhat likely 0     0      2.68\n",
       "15 unlikely        1     0      3.57"
      ]
     },
     "metadata": {},
     "output_type": "display_data"
    },
    {
     "name": "stdout",
     "output_type": "stream",
     "text": [
      "Call:\n",
      "polr(formula = apply ~ pared + public + gpa, data = data, Hess = TRUE)\n",
      "\n",
      "Coefficients:\n",
      "          Value Std. Error t value\n",
      "pared   1.04769     0.2658  3.9418\n",
      "public -0.05879     0.2979 -0.1974\n",
      "gpa     0.61594     0.2606  2.3632\n",
      "\n",
      "Intercepts:\n",
      "                            Value   Std. Error t value\n",
      "unlikely|somewhat likely     2.2039  0.7795     2.8272\n",
      "somewhat likely|very likely  4.2994  0.8043     5.3453\n",
      "\n",
      "Residual Deviance: 717.0249 \n",
      "AIC: 727.0249 \n",
      "                              t_values     p_values\n",
      "pared                        3.9418050 8.087072e-05\n",
      "public                      -0.1973593 8.435464e-01\n",
      "gpa                          2.3632399 1.811594e-02\n",
      "unlikely|somewhat likely     2.8271792 4.696004e-03\n",
      "somewhat likely|very likely  5.3452947 9.027008e-08\n"
     ]
    }
   ],
   "source": [
    "require(foreign)\n",
    "require(ggplot2)\n",
    "require(MASS)\n",
    "require(reshape2)\n",
    "\n",
    "# data/tutorial from https://stats.idre.ucla.edu/r/dae/ordinal-logistic-regression/\n",
    "# also: https://medium.com/evangelinelee/brant-test-for-proportional-odds-in-r-b0b373a93aa2\n",
    "# also: https://sebastiansauer.github.io/convert_logit2prob/#:~:text=convert%20odds%20to%20probability%20using,2)%3D%202%20%2F%203%20(~.\n",
    "\n",
    "data = read.dta(\"https://stats.idre.ucla.edu/stat/data/ologit.dta\")\n",
    "\n",
    "head(data, 15)\n",
    "\n",
    "mod = polr(apply ~ pared + public + gpa, data = data, Hess=TRUE)\n",
    "\n",
    "print(summary(mod))\n",
    "\n",
    "mod_summary = summary(mod)\n",
    "t_values = mod_summary$coefficients[, 't value']\n",
    "p_values = (1 - pnorm(abs(t_values)))*2\n",
    "t_and_p = cbind(t_values, p_values)\n",
    "print(t_and_p)"
   ]
  },
  {
   "cell_type": "code",
   "execution_count": 2,
   "metadata": {},
   "outputs": [
    {
     "name": "stdout",
     "output_type": "stream",
     "text": [
      "[1] \"Checking the proportional odds assumption with the Brant test:\"\n",
      "-------------------------------------------- \n",
      "Test for\tX2\tdf\tprobability \n",
      "-------------------------------------------- \n",
      "Omnibus\t\t4.34\t3\t0.23\n",
      "pared\t\t0.13\t1\t0.72\n",
      "public\t\t3.44\t1\t0.06\n",
      "gpa\t\t0.18\t1\t0.67\n",
      "-------------------------------------------- \n",
      "\n",
      "H0: Parallel Regression Assumption holds\n",
      "[1] \"Based on the Brant test, the proportional odds assumption holds!\"\n"
     ]
    }
   ],
   "source": [
    "# checking the proportional odds assumption\n",
    "\n",
    "print('Checking the proportional odds assumption with the Brant test:')\n",
    "\n",
    "library(brant)\n",
    "\n",
    "po_test = brant(mod)\n",
    "\n",
    "po_test_probs = po_test[, 'probability']\n",
    "\n",
    "non_parallel = sum(subset(po_test_probs, sum(po_test_probs <= 0.05) != 0))\n",
    "\n",
    "if(non_parallel != 0){print('Based on the Brant test, the proportional odds assumption is violated! Do not trust the model results.')\n",
    "                     }else {print('Based on the Brant test, the proportional odds assumption holds!')}\n",
    "\n"
   ]
  },
  {
   "cell_type": "code",
   "execution_count": 3,
   "metadata": {},
   "outputs": [
    {
     "name": "stdout",
     "output_type": "stream",
     "text": [
      "[1] \"The odds increase (more likely to apply) for a one unit increase in each predictor (holding the other predictors constant) are:\"\n",
      "    pared    public       gpa \n",
      "2.8510579 0.9429088 1.8513972 \n",
      "[1] \"The probability increase (more likely to apply) for a one unit increase in each predictor (holding the other predictors constant) are:\"\n",
      "    pared    public       gpa \n",
      "0.7403311 0.4853078 0.6492947 \n"
     ]
    },
    {
     "data": {
      "image/png": "[encoded data removed]",
      "text/plain": [
       "Plot with title \"Odds increase for a one unit increase in the predictor\""
      ]
     },
     "metadata": {
      "image/png": {
       "height": 420,
       "width": 420
      }
     },
     "output_type": "display_data"
    },
    {
     "data": {
      "image/png": "[encoded data removed]",
      "text/plain": [
       "Plot with title \"Probability increase for a one unit increase in the predictor\""
      ]
     },
     "metadata": {
      "image/png": {
       "height": 420,
       "width": 420
      }
     },
     "output_type": "display_data"
    }
   ],
   "source": [
    "# calculating and plotting the odds (increase in odds for one unit change in a predictor)\n",
    "\n",
    "odds = exp(coef(mod))\n",
    "\n",
    "print('The odds increase (more likely to apply) for a one unit increase in each predictor (holding the other predictors constant) are:')\n",
    "print(odds)\n",
    "\n",
    "# plotting the predicted odds increases obtained from the model\n",
    "barplot(odds, ylab = 'odds increase for a one unit increase in predictor (holding other predictors constant)', \n",
    "        main = 'Odds increase for a one unit increase in the predictor', col = c('green', 'blue', 'red'))\n",
    "\n",
    "# converting the odds to probabilities\n",
    "probs = odds/(1+odds)\n",
    "print('The probability increase (more likely to apply) for a one unit increase in each predictor (holding the other predictors constant) are:')\n",
    "print(probs)\n",
    "\n",
    "# plotting the predicted increase in probabilities\n",
    "barplot(probs, ylab = 'probability increase for a one unit increase in predictor (holding other predictors constant)', \n",
    "        main = 'Probability increase for a one unit increase in the predictor', col = c('green', 'blue', 'red'))"
   ]
  },
  {
   "cell_type": "code",
   "execution_count": 4,
   "metadata": {},
   "outputs": [
    {
     "data": {
      "text/html": [
       "<table>\n",
       "<caption>A data.frame: 10 × 6</caption>\n",
       "<thead>\n",
       "\t<tr><th></th><th scope=col>gpa</th><th scope=col>pared</th><th scope=col>public</th><th scope=col>predict.unlikely</th><th scope=col>predict.somewhat.likely</th><th scope=col>predict.very.likely</th></tr>\n",
       "\t<tr><th></th><th scope=col>&lt;dbl&gt;</th><th scope=col>&lt;int&gt;</th><th scope=col>&lt;int&gt;</th><th scope=col>&lt;dbl&gt;</th><th scope=col>&lt;dbl&gt;</th><th scope=col>&lt;dbl&gt;</th></tr>\n",
       "</thead>\n",
       "<tbody>\n",
       "\t<tr><th scope=row>1</th><td>1.900000</td><td>0</td><td>0</td><td>0.7376186</td><td>0.2204577</td><td>0.04192370</td></tr>\n",
       "\t<tr><th scope=row>2</th><td>1.921212</td><td>1</td><td>0</td><td>0.5079138</td><td>0.3855962</td><td>0.10649001</td></tr>\n",
       "\t<tr><th scope=row>3</th><td>1.942424</td><td>0</td><td>0</td><td>0.7325300</td><td>0.2244841</td><td>0.04298593</td></tr>\n",
       "\t<tr><th scope=row>4</th><td>1.963636</td><td>1</td><td>0</td><td>0.5013818</td><td>0.3896162</td><td>0.10900205</td></tr>\n",
       "\t<tr><th scope=row>5</th><td>1.984848</td><td>0</td><td>0</td><td>0.7273792</td><td>0.2285470</td><td>0.04407383</td></tr>\n",
       "\t<tr><th scope=row>6</th><td>2.006061</td><td>1</td><td>0</td><td>0.4948492</td><td>0.3935848</td><td>0.11156594</td></tr>\n",
       "\t<tr><th scope=row>7</th><td>2.027273</td><td>0</td><td>0</td><td>0.7221668</td><td>0.2326452</td><td>0.04518797</td></tr>\n",
       "\t<tr><th scope=row>8</th><td>2.048485</td><td>1</td><td>0</td><td>0.4883185</td><td>0.3974991</td><td>0.11418240</td></tr>\n",
       "\t<tr><th scope=row>9</th><td>2.069697</td><td>0</td><td>0</td><td>0.7168936</td><td>0.2367775</td><td>0.04632890</td></tr>\n",
       "\t<tr><th scope=row>10</th><td>2.090909</td><td>1</td><td>0</td><td>0.4817917</td><td>0.4013561</td><td>0.11685216</td></tr>\n",
       "</tbody>\n",
       "</table>\n"
      ],
      "text/latex": [
       "A data.frame: 10 × 6\n",
       "\\begin{tabular}{r|llllll}\n",
       "  & gpa & pared & public & predict.unlikely & predict.somewhat.likely & predict.very.likely\\\\\n",
       "  & <dbl> & <int> & <int> & <dbl> & <dbl> & <dbl>\\\\\n",
       "\\hline\n",
       "\t1 & 1.900000 & 0 & 0 & 0.7376186 & 0.2204577 & 0.04192370\\\\\n",
       "\t2 & 1.921212 & 1 & 0 & 0.5079138 & 0.3855962 & 0.10649001\\\\\n",
       "\t3 & 1.942424 & 0 & 0 & 0.7325300 & 0.2244841 & 0.04298593\\\\\n",
       "\t4 & 1.963636 & 1 & 0 & 0.5013818 & 0.3896162 & 0.10900205\\\\\n",
       "\t5 & 1.984848 & 0 & 0 & 0.7273792 & 0.2285470 & 0.04407383\\\\\n",
       "\t6 & 2.006061 & 1 & 0 & 0.4948492 & 0.3935848 & 0.11156594\\\\\n",
       "\t7 & 2.027273 & 0 & 0 & 0.7221668 & 0.2326452 & 0.04518797\\\\\n",
       "\t8 & 2.048485 & 1 & 0 & 0.4883185 & 0.3974991 & 0.11418240\\\\\n",
       "\t9 & 2.069697 & 0 & 0 & 0.7168936 & 0.2367775 & 0.04632890\\\\\n",
       "\t10 & 2.090909 & 1 & 0 & 0.4817917 & 0.4013561 & 0.11685216\\\\\n",
       "\\end{tabular}\n"
      ],
      "text/markdown": [
       "\n",
       "A data.frame: 10 × 6\n",
       "\n",
       "| <!--/--> | gpa &lt;dbl&gt; | pared &lt;int&gt; | public &lt;int&gt; | predict.unlikely &lt;dbl&gt; | predict.somewhat.likely &lt;dbl&gt; | predict.very.likely &lt;dbl&gt; |\n",
       "|---|---|---|---|---|---|---|\n",
       "| 1 | 1.900000 | 0 | 0 | 0.7376186 | 0.2204577 | 0.04192370 |\n",
       "| 2 | 1.921212 | 1 | 0 | 0.5079138 | 0.3855962 | 0.10649001 |\n",
       "| 3 | 1.942424 | 0 | 0 | 0.7325300 | 0.2244841 | 0.04298593 |\n",
       "| 4 | 1.963636 | 1 | 0 | 0.5013818 | 0.3896162 | 0.10900205 |\n",
       "| 5 | 1.984848 | 0 | 0 | 0.7273792 | 0.2285470 | 0.04407383 |\n",
       "| 6 | 2.006061 | 1 | 0 | 0.4948492 | 0.3935848 | 0.11156594 |\n",
       "| 7 | 2.027273 | 0 | 0 | 0.7221668 | 0.2326452 | 0.04518797 |\n",
       "| 8 | 2.048485 | 1 | 0 | 0.4883185 | 0.3974991 | 0.11418240 |\n",
       "| 9 | 2.069697 | 0 | 0 | 0.7168936 | 0.2367775 | 0.04632890 |\n",
       "| 10 | 2.090909 | 1 | 0 | 0.4817917 | 0.4013561 | 0.11685216 |\n",
       "\n"
      ],
      "text/plain": [
       "   gpa      pared public predict.unlikely predict.somewhat.likely\n",
       "1  1.900000 0     0      0.7376186        0.2204577              \n",
       "2  1.921212 1     0      0.5079138        0.3855962              \n",
       "3  1.942424 0     0      0.7325300        0.2244841              \n",
       "4  1.963636 1     0      0.5013818        0.3896162              \n",
       "5  1.984848 0     0      0.7273792        0.2285470              \n",
       "6  2.006061 1     0      0.4948492        0.3935848              \n",
       "7  2.027273 0     0      0.7221668        0.2326452              \n",
       "8  2.048485 1     0      0.4883185        0.3974991              \n",
       "9  2.069697 0     0      0.7168936        0.2367775              \n",
       "10 2.090909 1     0      0.4817917        0.4013561              \n",
       "   predict.very.likely\n",
       "1  0.04192370         \n",
       "2  0.10649001         \n",
       "3  0.04298593         \n",
       "4  0.10900205         \n",
       "5  0.04407383         \n",
       "6  0.11156594         \n",
       "7  0.04518797         \n",
       "8  0.11418240         \n",
       "9  0.04632890         \n",
       "10 0.11685216         "
      ]
     },
     "metadata": {},
     "output_type": "display_data"
    }
   ],
   "source": [
    "# calculate the total number of observations and create vectors of the full scale of each variable \n",
    "\n",
    "nobs = length(data[,1])\n",
    "\n",
    "range_gpa = range(data$gpa)\n",
    "\n",
    "range_pared = range(data$pared)\n",
    "\n",
    "range_public = range(data$public)\n",
    "\n",
    "\n",
    "# create a dataframe with the full scales of each variable\n",
    "data_ranges = data.frame(gpa = seq(from = min(range_gpa), to = max(range_gpa), length.out = 100),\n",
    "                        pared = rep(range_pared, nobs/2),\n",
    "                        public = rep(range_public, nobs/2))\n",
    "\n",
    "# use the above dataframe to generate predictions based on the ordinal logit model\n",
    "data_ranges_predictions = data.frame(gpa = seq(from = min(range_gpa), to = max(range_gpa), length.out = 100),\n",
    "                        pared = rep(range_pared, nobs/2),\n",
    "                        public = rep(range_public, each = nobs/2),\n",
    "                        predict = predict(mod, newdata = data_ranges, type = 'probs'))\n",
    "head(data_ranges_predictions, 10)"
   ]
  },
  {
   "cell_type": "code",
   "execution_count": 5,
   "metadata": {},
   "outputs": [
    {
     "data": {
      "text/html": [
       "<table>\n",
       "<caption>A data.frame: 10 × 5</caption>\n",
       "<thead>\n",
       "\t<tr><th></th><th scope=col>pared</th><th scope=col>public</th><th scope=col>gpa</th><th scope=col>predicted_class</th><th scope=col>probability</th></tr>\n",
       "\t<tr><th></th><th scope=col>&lt;int&gt;</th><th scope=col>&lt;int&gt;</th><th scope=col>&lt;dbl&gt;</th><th scope=col>&lt;fct&gt;</th><th scope=col>&lt;dbl&gt;</th></tr>\n",
       "</thead>\n",
       "<tbody>\n",
       "\t<tr><th scope=row>1</th><td>0</td><td>0</td><td>1.900000</td><td>predict.unlikely</td><td>0.7376186</td></tr>\n",
       "\t<tr><th scope=row>2</th><td>1</td><td>0</td><td>1.921212</td><td>predict.unlikely</td><td>0.5079138</td></tr>\n",
       "\t<tr><th scope=row>3</th><td>0</td><td>0</td><td>1.942424</td><td>predict.unlikely</td><td>0.7325300</td></tr>\n",
       "\t<tr><th scope=row>4</th><td>1</td><td>0</td><td>1.963636</td><td>predict.unlikely</td><td>0.5013818</td></tr>\n",
       "\t<tr><th scope=row>5</th><td>0</td><td>0</td><td>1.984848</td><td>predict.unlikely</td><td>0.7273792</td></tr>\n",
       "\t<tr><th scope=row>6</th><td>1</td><td>0</td><td>2.006061</td><td>predict.unlikely</td><td>0.4948492</td></tr>\n",
       "\t<tr><th scope=row>7</th><td>0</td><td>0</td><td>2.027273</td><td>predict.unlikely</td><td>0.7221668</td></tr>\n",
       "\t<tr><th scope=row>8</th><td>1</td><td>0</td><td>2.048485</td><td>predict.unlikely</td><td>0.4883185</td></tr>\n",
       "\t<tr><th scope=row>9</th><td>0</td><td>0</td><td>2.069697</td><td>predict.unlikely</td><td>0.7168936</td></tr>\n",
       "\t<tr><th scope=row>10</th><td>1</td><td>0</td><td>2.090909</td><td>predict.unlikely</td><td>0.4817917</td></tr>\n",
       "</tbody>\n",
       "</table>\n"
      ],
      "text/latex": [
       "A data.frame: 10 × 5\n",
       "\\begin{tabular}{r|lllll}\n",
       "  & pared & public & gpa & predicted\\_class & probability\\\\\n",
       "  & <int> & <int> & <dbl> & <fct> & <dbl>\\\\\n",
       "\\hline\n",
       "\t1 & 0 & 0 & 1.900000 & predict.unlikely & 0.7376186\\\\\n",
       "\t2 & 1 & 0 & 1.921212 & predict.unlikely & 0.5079138\\\\\n",
       "\t3 & 0 & 0 & 1.942424 & predict.unlikely & 0.7325300\\\\\n",
       "\t4 & 1 & 0 & 1.963636 & predict.unlikely & 0.5013818\\\\\n",
       "\t5 & 0 & 0 & 1.984848 & predict.unlikely & 0.7273792\\\\\n",
       "\t6 & 1 & 0 & 2.006061 & predict.unlikely & 0.4948492\\\\\n",
       "\t7 & 0 & 0 & 2.027273 & predict.unlikely & 0.7221668\\\\\n",
       "\t8 & 1 & 0 & 2.048485 & predict.unlikely & 0.4883185\\\\\n",
       "\t9 & 0 & 0 & 2.069697 & predict.unlikely & 0.7168936\\\\\n",
       "\t10 & 1 & 0 & 2.090909 & predict.unlikely & 0.4817917\\\\\n",
       "\\end{tabular}\n"
      ],
      "text/markdown": [
       "\n",
       "A data.frame: 10 × 5\n",
       "\n",
       "| <!--/--> | pared &lt;int&gt; | public &lt;int&gt; | gpa &lt;dbl&gt; | predicted_class &lt;fct&gt; | probability &lt;dbl&gt; |\n",
       "|---|---|---|---|---|---|\n",
       "| 1 | 0 | 0 | 1.900000 | predict.unlikely | 0.7376186 |\n",
       "| 2 | 1 | 0 | 1.921212 | predict.unlikely | 0.5079138 |\n",
       "| 3 | 0 | 0 | 1.942424 | predict.unlikely | 0.7325300 |\n",
       "| 4 | 1 | 0 | 1.963636 | predict.unlikely | 0.5013818 |\n",
       "| 5 | 0 | 0 | 1.984848 | predict.unlikely | 0.7273792 |\n",
       "| 6 | 1 | 0 | 2.006061 | predict.unlikely | 0.4948492 |\n",
       "| 7 | 0 | 0 | 2.027273 | predict.unlikely | 0.7221668 |\n",
       "| 8 | 1 | 0 | 2.048485 | predict.unlikely | 0.4883185 |\n",
       "| 9 | 0 | 0 | 2.069697 | predict.unlikely | 0.7168936 |\n",
       "| 10 | 1 | 0 | 2.090909 | predict.unlikely | 0.4817917 |\n",
       "\n"
      ],
      "text/plain": [
       "   pared public gpa      predicted_class  probability\n",
       "1  0     0      1.900000 predict.unlikely 0.7376186  \n",
       "2  1     0      1.921212 predict.unlikely 0.5079138  \n",
       "3  0     0      1.942424 predict.unlikely 0.7325300  \n",
       "4  1     0      1.963636 predict.unlikely 0.5013818  \n",
       "5  0     0      1.984848 predict.unlikely 0.7273792  \n",
       "6  1     0      2.006061 predict.unlikely 0.4948492  \n",
       "7  0     0      2.027273 predict.unlikely 0.7221668  \n",
       "8  1     0      2.048485 predict.unlikely 0.4883185  \n",
       "9  0     0      2.069697 predict.unlikely 0.7168936  \n",
       "10 1     0      2.090909 predict.unlikely 0.4817917  "
      ]
     },
     "metadata": {},
     "output_type": "display_data"
    }
   ],
   "source": [
    "# change the shape of the dataframe so there is one row for each predicted probability (rather than one row for each\n",
    "# observation)\n",
    "\n",
    "clean_probs = melt(data_ranges_predictions, id.vars = c(\"pared\", \"public\", \"gpa\"),\n",
    "  variable.name = \"predicted_class\", value.name=\"probability\")\n",
    "\n",
    "head(clean_probs, 10)"
   ]
  },
  {
   "cell_type": "code",
   "execution_count": 6,
   "metadata": {},
   "outputs": [
    {
     "data": {
      "image/png": "[encoded data removed]",
      "text/plain": [
       "plot without title"
      ]
     },
     "metadata": {
      "image/png": {
       "height": 420,
       "width": 420
      }
     },
     "output_type": "display_data"
    }
   ],
   "source": [
    "# generate a facet grid to show the predicted probability of falling into a particular outcome class as a function of \n",
    "# the predictor variables\n",
    "\n",
    "ggplot(clean_probs, aes(x = gpa, y = probability, colour = predicted_class)) +\n",
    "  geom_line() + facet_grid(pared ~ public, labeller=\"label_both\")"
   ]
  },
  {
   "cell_type": "code",
   "execution_count": null,
   "metadata": {},
   "outputs": [],
   "source": []
  }
 ],
 "metadata": {
  "kernelspec": {
   "display_name": "R",
   "language": "R",
   "name": "ir"
  },
  "language_info": {
   "codemirror_mode": "r",
   "file_extension": ".r",
   "mimetype": "text/x-r-source",
   "name": "R",
   "pygments_lexer": "r",
   "version": "4.0.3"
  }
 },
 "nbformat": 4,
 "nbformat_minor": 4
}
